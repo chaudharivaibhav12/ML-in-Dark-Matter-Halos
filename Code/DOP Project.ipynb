{
 "cells": [
  {
   "cell_type": "markdown",
   "metadata": {},
   "source": [
    "# Importing the libraries"
   ]
  },
  {
   "cell_type": "code",
   "execution_count": 1,
   "metadata": {},
   "outputs": [],
   "source": [
    "import h5py\n",
    "import pandas as pd\n",
    "import numpy as np\n",
    "import matplotlib.pyplot as plt"
   ]
  },
  {
   "cell_type": "markdown",
   "metadata": {},
   "source": [
    "# Impoting the Dataset in the H5PY fromat\n"
   ]
  },
  {
   "cell_type": "code",
   "execution_count": 2,
   "metadata": {},
   "outputs": [],
   "source": [
    "f = h5py.File('galaxies.Z00.h5','r')"
   ]
  },
  {
   "cell_type": "code",
   "execution_count": 3,
   "metadata": {},
   "outputs": [
    {
     "data": {
      "text/plain": [
       "<KeysViewHDF5 ['Galaxies']>"
      ]
     },
     "execution_count": 3,
     "metadata": {},
     "output_type": "execute_result"
    }
   ],
   "source": [
    "f.keys()"
   ]
  },
  {
   "cell_type": "code",
   "execution_count": 4,
   "metadata": {},
   "outputs": [
    {
     "data": {
      "text/plain": [
       "['Galaxies']"
      ]
     },
     "execution_count": 4,
     "metadata": {},
     "output_type": "execute_result"
    }
   ],
   "source": [
    "list( f.keys() )"
   ]
  },
  {
   "cell_type": "markdown",
   "metadata": {},
   "source": [
    "# Using the h5py file using Pandas"
   ]
  },
  {
   "cell_type": "code",
   "execution_count": 5,
   "metadata": {},
   "outputs": [],
   "source": [
    "df = pd.DataFrame(f['Galaxies'][:])\n",
    "df=df.iloc[:,0:9]\n",
    "df=df.iloc[:20000, :]"
   ]
  },
  {
   "cell_type": "code",
   "execution_count": 6,
   "metadata": {
    "scrolled": true
   },
   "outputs": [
    {
     "data": {
      "text/html": [
       "<div>\n",
       "<style scoped>\n",
       "    .dataframe tbody tr th:only-of-type {\n",
       "        vertical-align: middle;\n",
       "    }\n",
       "\n",
       "    .dataframe tbody tr th {\n",
       "        vertical-align: top;\n",
       "    }\n",
       "\n",
       "    .dataframe thead th {\n",
       "        text-align: right;\n",
       "    }\n",
       "</style>\n",
       "<table border=\"1\" class=\"dataframe\">\n",
       "  <thead>\n",
       "    <tr style=\"text-align: right;\">\n",
       "      <th></th>\n",
       "      <th>Halo_mass</th>\n",
       "      <th>Halo_growth_rate</th>\n",
       "      <th>Halo_mass_peak</th>\n",
       "      <th>Scale_peak_mass</th>\n",
       "      <th>Scale_half_mass</th>\n",
       "      <th>Halo_radius</th>\n",
       "      <th>Concentration</th>\n",
       "      <th>Halo_spin</th>\n",
       "      <th>Stellar_mass</th>\n",
       "    </tr>\n",
       "  </thead>\n",
       "  <tbody>\n",
       "    <tr>\n",
       "      <td>0</td>\n",
       "      <td>11.291506</td>\n",
       "      <td>0.000000</td>\n",
       "      <td>11.933064</td>\n",
       "      <td>0.52</td>\n",
       "      <td>0.26</td>\n",
       "      <td>0.153729</td>\n",
       "      <td>207.948105</td>\n",
       "      <td>0.03063</td>\n",
       "      <td>10.426738</td>\n",
       "    </tr>\n",
       "    <tr>\n",
       "      <td>1</td>\n",
       "      <td>11.107182</td>\n",
       "      <td>0.000000</td>\n",
       "      <td>11.269677</td>\n",
       "      <td>0.89</td>\n",
       "      <td>0.49</td>\n",
       "      <td>0.133456</td>\n",
       "      <td>119.950928</td>\n",
       "      <td>0.02274</td>\n",
       "      <td>9.099111</td>\n",
       "    </tr>\n",
       "    <tr>\n",
       "      <td>2</td>\n",
       "      <td>10.774375</td>\n",
       "      <td>5.415474</td>\n",
       "      <td>11.231920</td>\n",
       "      <td>0.38</td>\n",
       "      <td>0.30</td>\n",
       "      <td>0.103370</td>\n",
       "      <td>20.775208</td>\n",
       "      <td>0.00583</td>\n",
       "      <td>9.304751</td>\n",
       "    </tr>\n",
       "    <tr>\n",
       "      <td>3</td>\n",
       "      <td>9.996202</td>\n",
       "      <td>0.150599</td>\n",
       "      <td>10.529177</td>\n",
       "      <td>0.55</td>\n",
       "      <td>0.47</td>\n",
       "      <td>0.056887</td>\n",
       "      <td>39.662548</td>\n",
       "      <td>0.03998</td>\n",
       "      <td>7.168949</td>\n",
       "    </tr>\n",
       "    <tr>\n",
       "      <td>4</td>\n",
       "      <td>9.668787</td>\n",
       "      <td>0.000000</td>\n",
       "      <td>10.674248</td>\n",
       "      <td>0.65</td>\n",
       "      <td>0.26</td>\n",
       "      <td>0.044248</td>\n",
       "      <td>46.062977</td>\n",
       "      <td>0.02509</td>\n",
       "      <td>7.502442</td>\n",
       "    </tr>\n",
       "  </tbody>\n",
       "</table>\n",
       "</div>"
      ],
      "text/plain": [
       "   Halo_mass  Halo_growth_rate  Halo_mass_peak  Scale_peak_mass  \\\n",
       "0  11.291506          0.000000       11.933064             0.52   \n",
       "1  11.107182          0.000000       11.269677             0.89   \n",
       "2  10.774375          5.415474       11.231920             0.38   \n",
       "3   9.996202          0.150599       10.529177             0.55   \n",
       "4   9.668787          0.000000       10.674248             0.65   \n",
       "\n",
       "   Scale_half_mass  Halo_radius  Concentration  Halo_spin  Stellar_mass  \n",
       "0             0.26     0.153729     207.948105    0.03063     10.426738  \n",
       "1             0.49     0.133456     119.950928    0.02274      9.099111  \n",
       "2             0.30     0.103370      20.775208    0.00583      9.304751  \n",
       "3             0.47     0.056887      39.662548    0.03998      7.168949  \n",
       "4             0.26     0.044248      46.062977    0.02509      7.502442  "
      ]
     },
     "execution_count": 6,
     "metadata": {},
     "output_type": "execute_result"
    }
   ],
   "source": [
    "df.head()"
   ]
  },
  {
   "cell_type": "markdown",
   "metadata": {},
   "source": [
    "# Checking for NaN values in Dataset"
   ]
  },
  {
   "cell_type": "code",
   "execution_count": 7,
   "metadata": {
    "scrolled": false
   },
   "outputs": [
    {
     "data": {
      "text/plain": [
       "Halo_mass           0\n",
       "Halo_growth_rate    0\n",
       "Halo_mass_peak      0\n",
       "Scale_peak_mass     0\n",
       "Scale_half_mass     0\n",
       "Halo_radius         0\n",
       "Concentration       0\n",
       "Halo_spin           0\n",
       "Stellar_mass        0\n",
       "dtype: int64"
      ]
     },
     "execution_count": 7,
     "metadata": {},
     "output_type": "execute_result"
    }
   ],
   "source": [
    "df.isna().sum()"
   ]
  },
  {
   "cell_type": "markdown",
   "metadata": {},
   "source": [
    "# Inspecting the Features in the Dataset"
   ]
  },
  {
   "cell_type": "code",
   "execution_count": 8,
   "metadata": {
    "scrolled": true
   },
   "outputs": [
    {
     "data": {
      "text/plain": [
       "array([[<matplotlib.axes._subplots.AxesSubplot object at 0x0000012F230F7B88>,\n",
       "        <matplotlib.axes._subplots.AxesSubplot object at 0x0000012F2564A608>,\n",
       "        <matplotlib.axes._subplots.AxesSubplot object at 0x0000012F25684548>],\n",
       "       [<matplotlib.axes._subplots.AxesSubplot object at 0x0000012F256C0E88>,\n",
       "        <matplotlib.axes._subplots.AxesSubplot object at 0x0000012F256F67C8>,\n",
       "        <matplotlib.axes._subplots.AxesSubplot object at 0x0000012F2572D808>],\n",
       "       [<matplotlib.axes._subplots.AxesSubplot object at 0x0000012F25765908>,\n",
       "        <matplotlib.axes._subplots.AxesSubplot object at 0x0000012F2579FA48>,\n",
       "        <matplotlib.axes._subplots.AxesSubplot object at 0x0000012F257AA648>]],\n",
       "      dtype=object)"
      ]
     },
     "execution_count": 8,
     "metadata": {},
     "output_type": "execute_result"
    },
    {
     "data": {
      "image/png": "[encoded data removed]",
      "text/plain": [
       "<Figure size 1080x1080 with 9 Axes>"
      ]
     },
     "metadata": {
      "needs_background": "light"
     },
     "output_type": "display_data"
    }
   ],
   "source": [
    "df.hist(bins=40, figsize=[15,15])"
   ]
  },
  {
   "cell_type": "markdown",
   "metadata": {},
   "source": [
    "# Data Visualization using Correlation Heatmap"
   ]
  },
  {
   "cell_type": "code",
   "execution_count": 9,
   "metadata": {},
   "outputs": [
    {
     "data": {
      "text/plain": [
       "<matplotlib.axes._subplots.AxesSubplot at 0x12f280160c8>"
      ]
     },
     "execution_count": 9,
     "metadata": {},
     "output_type": "execute_result"
    },
    {
     "data": {
      "image/png": "[encoded data removed]",
      "text/plain": [
       "<Figure size 1080x1080 with 2 Axes>"
      ]
     },
     "metadata": {
      "needs_background": "light"
     },
     "output_type": "display_data"
    }
   ],
   "source": [
    "correlationMatrix=df.corr()\n",
    "import seaborn as sns\n",
    "fig, ax = plt.subplots(figsize=(15,15)) \n",
    "sns.heatmap(correlationMatrix, annot=False, linewidths=.5, ax=ax)"
   ]
  },
  {
   "cell_type": "code",
   "execution_count": 10,
   "metadata": {},
   "outputs": [
    {
     "data": {
      "text/plain": [
       "Halo_spin          -0.159894\n",
       "Halo_growth_rate    0.108067\n",
       "Concentration       0.158072\n",
       "Scale_half_mass     0.316507\n",
       "Scale_peak_mass     0.367370\n",
       "Halo_radius         0.614438\n",
       "Halo_mass           0.758103\n",
       "Halo_mass_peak      0.848301\n",
       "Stellar_mass        1.000000\n",
       "Name: Stellar_mass, dtype: float64"
      ]
     },
     "execution_count": 10,
     "metadata": {},
     "output_type": "execute_result"
    }
   ],
   "source": [
    "correlationMatrix.iloc[:, 8].sort_values()"
   ]
  },
  {
   "cell_type": "markdown",
   "metadata": {},
   "source": [
    "# Preprocessing"
   ]
  },
  {
   "cell_type": "code",
   "execution_count": 11,
   "metadata": {},
   "outputs": [],
   "source": [
    "from sklearn.base import BaseEstimator, TransformerMixin\n",
    "from sklearn.pipeline import Pipeline, FeatureUnion\n",
    "from sklearn.preprocessing import MinMaxScaler, StandardScaler\n",
    "from sklearn.model_selection import train_test_split\n",
    "from sklearn.impute import SimpleImputer"
   ]
  },
  {
   "cell_type": "markdown",
   "metadata": {},
   "source": [
    "### Splitting of Labels and Features"
   ]
  },
  {
   "cell_type": "code",
   "execution_count": 12,
   "metadata": {},
   "outputs": [],
   "source": [
    "df1=df.copy()\n",
    "X=df1.drop([\"Stellar_mass\"], axis=1)\n",
    "y= df1[\"Stellar_mass\"]"
   ]
  },
  {
   "cell_type": "markdown",
   "metadata": {},
   "source": [
    "###  Splitting data into Training and Testing"
   ]
  },
  {
   "cell_type": "code",
   "execution_count": 13,
   "metadata": {},
   "outputs": [],
   "source": [
    "X_train, X_test, y_train, y_test = train_test_split(X, y, test_size=0.2, random_state=0)"
   ]
  },
  {
   "cell_type": "markdown",
   "metadata": {},
   "source": [
    "### Feature Scaling"
   ]
  },
  {
   "cell_type": "code",
   "execution_count": 14,
   "metadata": {},
   "outputs": [],
   "source": [
    "class featureSelection(BaseEstimator, TransformerMixin):\n",
    "    \n",
    "    def __init__(self, featureList):\n",
    "        self.featureList = featureList\n",
    "    \n",
    "    def transform(self, X):\n",
    "        return X[self.featureList].values\n",
    "    \n",
    "    def fit(self, X, y=None):\n",
    "        return self"
   ]
  },
  {
   "cell_type": "code",
   "execution_count": 15,
   "metadata": {},
   "outputs": [],
   "source": [
    "minmaxFeature=[\"Concentration\", \"Halo_growth_rate\",\"Halo_radius\", \"Halo_spin\", \"Scale_peak_mass\" ]\n",
    "standardFeature= [\"Halo_mass\", \"Halo_mass_peak\", \"Scale_half_mass\"] "
   ]
  },
  {
   "cell_type": "code",
   "execution_count": 16,
   "metadata": {},
   "outputs": [],
   "source": [
    "#Pipeline for minmax Scaling\n",
    "minmaxStep= [(\"minmax_selector\", featureSelection(minmaxFeature)),\n",
    "               (\"simpleImputer\", SimpleImputer(strategy = 'mean')),(\"minmax_scaler\", MinMaxScaler())]\n",
    "minmaxPipeline= Pipeline(minmaxStep)"
   ]
  },
  {
   "cell_type": "code",
   "execution_count": 17,
   "metadata": {},
   "outputs": [],
   "source": [
    "#Pipeline for Standard Scaling\n",
    "standardStep= [(\"standard_selector\", featureSelection(standardFeature)),\n",
    "               (\"simpleImputer\", SimpleImputer(strategy = 'mean')),(\"standard_scaler\", StandardScaler())]\n",
    "standardPipeline= Pipeline(standardStep)"
   ]
  },
  {
   "cell_type": "code",
   "execution_count": 18,
   "metadata": {},
   "outputs": [],
   "source": [
    "#Pipeline for combined output from the above pipelines\n",
    "finalPipeline=FeatureUnion([(\"minmax\", minmaxPipeline), (\"standard\", standardPipeline)])"
   ]
  },
  {
   "cell_type": "markdown",
   "metadata": {},
   "source": [
    "# Regression using Random Forest, SVM, SGD "
   ]
  },
  {
   "cell_type": "markdown",
   "metadata": {},
   "source": [
    "### Cross-Validation"
   ]
  },
  {
   "cell_type": "code",
   "execution_count": 19,
   "metadata": {},
   "outputs": [],
   "source": [
    "from sklearn.linear_model import SGDRegressor\n",
    "from sklearn.model_selection import cross_val_score\n",
    "from sklearn.ensemble import RandomForestRegressor\n",
    "from sklearn.svm import SVR\n",
    "import warnings\n",
    "warnings.filterwarnings('ignore')"
   ]
  },
  {
   "cell_type": "code",
   "execution_count": 20,
   "metadata": {},
   "outputs": [],
   "source": [
    "def displayScores(scores):\n",
    "    print(\"Scores:\", scores)\n",
    "    print(\"Mean Score:\", scores.mean())\n",
    "    print(\"Standard Deviation of Scores:\", scores.std())"
   ]
  },
  {
   "cell_type": "code",
   "execution_count": 21,
   "metadata": {},
   "outputs": [
    {
     "name": "stdout",
     "output_type": "stream",
     "text": [
      "Scores: [-0.0479223  -0.04845389 -0.04800252 -0.04946855 -0.04633617]\n",
      "Mean Score: -0.048036686718779156\n",
      "Standard Deviation of Scores: 0.0010129436634708695\n"
     ]
    }
   ],
   "source": [
    "#Random Forest Regression\n",
    "RandomForestSteps=[(\"prep\", finalPipeline), (\"RandomForest\", RandomForestRegressor())]\n",
    "RFRegress=Pipeline(RandomForestSteps)\n",
    "\n",
    "CrossValidation_score=cross_val_score(RFRegress, X_train, y_train, cv=5, scoring=\"neg_mean_squared_error\")\n",
    "displayScores(CrossValidation_score)"
   ]
  },
  {
   "cell_type": "code",
   "execution_count": 22,
   "metadata": {},
   "outputs": [
    {
     "name": "stdout",
     "output_type": "stream",
     "text": [
      "Scores: [-0.05938094 -0.06165391 -0.06029985 -0.06255993 -0.05551541]\n",
      "Mean Score: -0.059882005857068\n",
      "Standard Deviation of Scores: 0.002441462311818337\n"
     ]
    }
   ],
   "source": [
    "#Support Vector Regression\n",
    "SupportVectorSteps=[(\"prep\", finalPipeline), (\"SupportVector\", SVR())]\n",
    "SupportVectorRegressor=Pipeline(SupportVectorSteps)\n",
    "\n",
    "CrossValidation_score=cross_val_score(SupportVectorRegressor, X_train, y_train, cv=5, scoring=\"neg_mean_squared_error\")\n",
    "displayScores(CrossValidation_score)"
   ]
  },
  {
   "cell_type": "code",
   "execution_count": 23,
   "metadata": {},
   "outputs": [
    {
     "name": "stdout",
     "output_type": "stream",
     "text": [
      "Scores: [-0.12334731 -0.13818001 -0.13081178 -0.13408314 -0.13001809]\n",
      "Mean Score: -0.13128806501516227\n",
      "Standard Deviation of Scores: 0.004903195877470768\n"
     ]
    }
   ],
   "source": [
    "#Stochastic Gradient Descent Regression\n",
    "StochasticGradientDescentSteps=[(\"prep\", finalPipeline), (\"StochasticGradient\", SGDRegressor())]\n",
    "StochasticGradientDescentRegressor=Pipeline(StochasticGradientDescentSteps)\n",
    "\n",
    "CrossValidation_score=cross_val_score(StochasticGradientDescentRegressor, X_train, y_train, cv=5, scoring=\"neg_mean_squared_error\")\n",
    "displayScores(CrossValidation_score)"
   ]
  },
  {
   "cell_type": "code",
   "execution_count": 24,
   "metadata": {},
   "outputs": [
    {
     "data": {
      "text/plain": [
       "<matplotlib.axes._subplots.AxesSubplot at 0x12f380033c8>"
      ]
     },
     "execution_count": 24,
     "metadata": {},
     "output_type": "execute_result"
    },
    {
     "data": {
      "image/png": "[encoded data removed]",
      "text/plain": [
       "<Figure size 216x216 with 1 Axes>"
      ]
     },
     "metadata": {
      "needs_background": "light"
     },
     "output_type": "display_data"
    },
    {
     "data": {
      "image/png": "[encoded data removed]",
      "text/plain": [
       "<Figure size 216x216 with 1 Axes>"
      ]
     },
     "metadata": {
      "needs_background": "light"
     },
     "output_type": "display_data"
    },
    {
     "data": {
      "image/png": "[encoded data removed]",
      "text/plain": [
       "<Figure size 216x216 with 1 Axes>"
      ]
     },
     "metadata": {
      "needs_background": "light"
     },
     "output_type": "display_data"
    }
   ],
   "source": [
    "RFRegress.fit(X_train, y_train)\n",
    "SupportVectorRegressor.fit(X_train, y_train)\n",
    "StochasticGradientDescentRegressor.fit(X_train, y_train)\n",
    "\n",
    "result = pd.DataFrame({ \"target\": y_test, \"Random Forest Prediction\":RFRegress.predict(X_test), \n",
    "                      \"Support Vector Model Prediction\": SupportVectorRegressor.predict(X_test), \n",
    "                      \"Stochastic Gradient Descent Prediction\": StochasticGradientDescentRegressor.predict(X_test)})\n",
    "\n",
    "result.plot.scatter(x=\"Stochastic Gradient Descent Prediction\", \n",
    "                         y = \"target\", figsize=[3,3])\n",
    "result.plot.scatter(x=\"Support Vector Model Prediction\", \n",
    "                y = \"target\", figsize=[3,3])\n",
    "result.plot.scatter(x=\"Random Forest Prediction\", \n",
    "                        y = \"target\", figsize=[3,3])"
   ]
  },
  {
   "cell_type": "markdown",
   "metadata": {},
   "source": [
    "### Hyperparameter Search using GridSearch"
   ]
  },
  {
   "cell_type": "code",
   "execution_count": 25,
   "metadata": {},
   "outputs": [
    {
     "name": "stdout",
     "output_type": "stream",
     "text": [
      "Best Max_dept : {'RandomForest__max_depth': 12}\n"
     ]
    }
   ],
   "source": [
    "from sklearn.model_selection import GridSearchCV\n",
    "ff = [{\"RandomForest__max_depth\": range(1,30)}]\n",
    "GSCrossValidation=GridSearchCV(RFRegress, ff, scoring = 'neg_mean_absolute_error')\n",
    "GSCrossValidation.fit(X_train, y_train)\n",
    "print(f\"Best Max_dept : {GSCrossValidation.best_params_}\")"
   ]
  },
  {
   "cell_type": "code",
   "execution_count": 26,
   "metadata": {},
   "outputs": [],
   "source": [
    "X_prep=finalPipeline.fit_transform(X_train, y_train)"
   ]
  },
  {
   "cell_type": "markdown",
   "metadata": {},
   "source": [
    "### Evaluation \n"
   ]
  },
  {
   "cell_type": "code",
   "execution_count": 27,
   "metadata": {},
   "outputs": [
    {
     "data": {
      "text/html": [
       "<div>\n",
       "<style scoped>\n",
       "    .dataframe tbody tr th:only-of-type {\n",
       "        vertical-align: middle;\n",
       "    }\n",
       "\n",
       "    .dataframe tbody tr th {\n",
       "        vertical-align: top;\n",
       "    }\n",
       "\n",
       "    .dataframe thead th {\n",
       "        text-align: right;\n",
       "    }\n",
       "</style>\n",
       "<table border=\"1\" class=\"dataframe\">\n",
       "  <thead>\n",
       "    <tr style=\"text-align: right;\">\n",
       "      <th></th>\n",
       "      <th>target</th>\n",
       "      <th>RF Prediction</th>\n",
       "    </tr>\n",
       "  </thead>\n",
       "  <tbody>\n",
       "    <tr>\n",
       "      <td>19134</td>\n",
       "      <td>7.238688</td>\n",
       "      <td>7.431878</td>\n",
       "    </tr>\n",
       "    <tr>\n",
       "      <td>4981</td>\n",
       "      <td>7.735857</td>\n",
       "      <td>7.747886</td>\n",
       "    </tr>\n",
       "    <tr>\n",
       "      <td>16643</td>\n",
       "      <td>7.497379</td>\n",
       "      <td>7.399315</td>\n",
       "    </tr>\n",
       "    <tr>\n",
       "      <td>19117</td>\n",
       "      <td>7.328487</td>\n",
       "      <td>7.236345</td>\n",
       "    </tr>\n",
       "    <tr>\n",
       "      <td>5306</td>\n",
       "      <td>7.121845</td>\n",
       "      <td>7.116305</td>\n",
       "    </tr>\n",
       "  </tbody>\n",
       "</table>\n",
       "</div>"
      ],
      "text/plain": [
       "         target  RF Prediction\n",
       "19134  7.238688       7.431878\n",
       "4981   7.735857       7.747886\n",
       "16643  7.497379       7.399315\n",
       "19117  7.328487       7.236345\n",
       "5306   7.121845       7.116305"
      ]
     },
     "execution_count": 27,
     "metadata": {},
     "output_type": "execute_result"
    }
   ],
   "source": [
    "RandomForestSteps=[(\"prep\", finalPipeline), (\"RF\", RandomForestRegressor(max_depth=12))]\n",
    "RandomForestRegressor_12=Pipeline(RandomForestSteps)\n",
    "RandomForestRegressor_12.fit(X_train, y_train)\n",
    "results_RF= pd.DataFrame({ \"target\": y_test, \"RF Prediction\":RFRegress.predict(X_test)})\n",
    "results_RF.head()\n"
   ]
  },
  {
   "cell_type": "markdown",
   "metadata": {},
   "source": [
    "# Regression with Neural Network"
   ]
  },
  {
   "cell_type": "code",
   "execution_count": 29,
   "metadata": {},
   "outputs": [
    {
     "name": "stdout",
     "output_type": "stream",
     "text": [
      "Scores: [-0.07643345 -0.05915591 -0.08679418 -0.05692075 -0.0515874 ]\n",
      "Mean Score: -0.06617833903482959\n",
      "Standard Deviation of Scores: 0.013252119787218875\n"
     ]
    }
   ],
   "source": [
    "from sklearn.neural_network import MLPRegressor\n",
    "\n",
    "MLPSteps=[(\"prep\", finalPipeline), (\"MLP\", MLPRegressor(hidden_layer_sizes=(6,5,)))]\n",
    "MLPRegress=Pipeline(MLPSteps)\n",
    "CrossValidation_MLP_score=cross_val_score(MLPRegress, X_train, y_train, cv=5, scoring=\"neg_mean_squared_error\")\n",
    "displayScores(CrossValidation_MLP_score)\n"
   ]
  },
  {
   "cell_type": "code",
   "execution_count": 30,
   "metadata": {},
   "outputs": [
    {
     "name": "stdout",
     "output_type": "stream",
     "text": [
      "Best Max_dept : {'MLP__hidden_layer_sizes': (6, 2)}\n"
     ]
    }
   ],
   "source": [
    "pg_MLP= [{\"MLP__hidden_layer_sizes\": [(6, 5,), (6, 4,), (6,3,),(6,2,), (5,4,),(5,3,), (5,2,), (4,6,)]  } ]\n",
    "\n",
    "GSCV_MLP=GridSearchCV(MLPRegress, pg_MLP, scoring = 'neg_mean_absolute_error')\n",
    "GSCV_MLP.fit(X_train, y_train)\n",
    "print(f\"Best Max_dept : {GSCV_MLP.best_params_}\")"
   ]
  },
  {
   "cell_type": "markdown",
   "metadata": {},
   "source": [
    "# Feature Selection and Dimensionality Reduction"
   ]
  },
  {
   "cell_type": "markdown",
   "metadata": {},
   "source": [
    "### Feature Selection using Random Forest  "
   ]
  },
  {
   "cell_type": "code",
   "execution_count": 31,
   "metadata": {},
   "outputs": [
    {
     "data": {
      "text/html": [
       "<div>\n",
       "<style scoped>\n",
       "    .dataframe tbody tr th:only-of-type {\n",
       "        vertical-align: middle;\n",
       "    }\n",
       "\n",
       "    .dataframe tbody tr th {\n",
       "        vertical-align: top;\n",
       "    }\n",
       "\n",
       "    .dataframe thead th {\n",
       "        text-align: right;\n",
       "    }\n",
       "</style>\n",
       "<table border=\"1\" class=\"dataframe\">\n",
       "  <thead>\n",
       "    <tr style=\"text-align: right;\">\n",
       "      <th></th>\n",
       "      <th>Features</th>\n",
       "      <th>Importance Score</th>\n",
       "    </tr>\n",
       "  </thead>\n",
       "  <tbody>\n",
       "    <tr>\n",
       "      <td>0</td>\n",
       "      <td>Halo_mass</td>\n",
       "      <td>0.008448</td>\n",
       "    </tr>\n",
       "    <tr>\n",
       "      <td>1</td>\n",
       "      <td>Halo_growth_rate</td>\n",
       "      <td>0.000162</td>\n",
       "    </tr>\n",
       "    <tr>\n",
       "      <td>2</td>\n",
       "      <td>Halo_mass_peak</td>\n",
       "      <td>0.012299</td>\n",
       "    </tr>\n",
       "    <tr>\n",
       "      <td>3</td>\n",
       "      <td>Scale_peak_mass</td>\n",
       "      <td>0.007223</td>\n",
       "    </tr>\n",
       "    <tr>\n",
       "      <td>4</td>\n",
       "      <td>Scale_half_mass</td>\n",
       "      <td>0.119790</td>\n",
       "    </tr>\n",
       "    <tr>\n",
       "      <td>5</td>\n",
       "      <td>Halo_radius</td>\n",
       "      <td>0.006359</td>\n",
       "    </tr>\n",
       "    <tr>\n",
       "      <td>6</td>\n",
       "      <td>Concentration</td>\n",
       "      <td>0.824339</td>\n",
       "    </tr>\n",
       "    <tr>\n",
       "      <td>7</td>\n",
       "      <td>Halo_spin</td>\n",
       "      <td>0.021380</td>\n",
       "    </tr>\n",
       "  </tbody>\n",
       "</table>\n",
       "</div>"
      ],
      "text/plain": [
       "           Features  Importance Score\n",
       "0         Halo_mass          0.008448\n",
       "1  Halo_growth_rate          0.000162\n",
       "2    Halo_mass_peak          0.012299\n",
       "3   Scale_peak_mass          0.007223\n",
       "4   Scale_half_mass          0.119790\n",
       "5       Halo_radius          0.006359\n",
       "6     Concentration          0.824339\n",
       "7         Halo_spin          0.021380"
      ]
     },
     "execution_count": 31,
     "metadata": {},
     "output_type": "execute_result"
    }
   ],
   "source": [
    "randomForest=RandomForestRegressor(max_depth=13)\n",
    "randomForest.fit(X_prep, y_train)\n",
    "featureImportanceScore = pd.DataFrame({\"Features\": np.array(X.columns), \"Importance Score\": np.array(randomForest.feature_importances_) })\n",
    "featureImportanceScore"
   ]
  },
  {
   "cell_type": "code",
   "execution_count": 32,
   "metadata": {},
   "outputs": [],
   "source": [
    "importantFeature=[\"Concentration\", \"Scale_half_mass\"]\n",
    "X_featureImportance=X[importantFeature]\n",
    "X_featureImportance_train, X_featureImportance_test, y_train, y_test=train_test_split(X_featureImportance, y, test_size=0.2)"
   ]
  },
  {
   "cell_type": "code",
   "execution_count": 33,
   "metadata": {},
   "outputs": [],
   "source": [
    "minmaxFeature_importantFeature=[\"Concentration\"]\n",
    "standardFeature_importantFeature= [\"Scale_half_mass\"] "
   ]
  },
  {
   "cell_type": "code",
   "execution_count": 34,
   "metadata": {},
   "outputs": [],
   "source": [
    "minmaxStep_importantFeature= [(\"minmax_selector\", featureSelection(minmaxFeature_importantFeature)),\n",
    "               (\"simpleImputer\", SimpleImputer(strategy = 'mean')),(\"minmax_scaler\", MinMaxScaler())]\n",
    "minmaxPipeline_importantFeature= Pipeline(minmaxStep_importantFeature)"
   ]
  },
  {
   "cell_type": "code",
   "execution_count": 35,
   "metadata": {},
   "outputs": [],
   "source": [
    "standardStep_importantFeature= [(\"standard_selector\", featureSelection(standardFeature_importantFeature)),\n",
    "               (\"simpleImputer\", SimpleImputer(strategy = 'mean')),(\"standard_scaler\", StandardScaler())]\n",
    "standardPipeline_importantFeature= Pipeline(standardStep_importantFeature)"
   ]
  },
  {
   "cell_type": "code",
   "execution_count": 36,
   "metadata": {},
   "outputs": [],
   "source": [
    "finalPipeline_importantFeature=FeatureUnion([(\"minmax\", minmaxPipeline_importantFeature), (\"standard\", standardPipeline_importantFeature)])"
   ]
  },
  {
   "cell_type": "code",
   "execution_count": 37,
   "metadata": {},
   "outputs": [],
   "source": [
    "RandomForestSteps_importantFeature=[(\"finalPipeline\", finalPipeline_importantFeature), (\"RandomForest\", RandomForestRegressor())]\n",
    "RandomForest_regressor_importantFeature=Pipeline(RandomForestSteps_importantFeature)"
   ]
  },
  {
   "cell_type": "code",
   "execution_count": 39,
   "metadata": {},
   "outputs": [
    {
     "name": "stdout",
     "output_type": "stream",
     "text": [
      "Scores: [-0.76961874 -0.71160877 -0.73913685 -0.89901821 -1.1746662 ]\n",
      "Mean Score: -0.8588097537753008\n",
      "Standard Deviation of Scores: 0.17048564805929345\n"
     ]
    }
   ],
   "source": [
    "CrossValidationScore_importantFeature=cross_val_score(RandomForest_regressor_importantFeature, X_featureImportance, y, cv=5, scoring=\"neg_mean_squared_error\")\n",
    "displayScores(CrossValidationScore_importantFeature)"
   ]
  },
  {
   "cell_type": "markdown",
   "metadata": {},
   "source": [
    "### PCA"
   ]
  },
  {
   "cell_type": "code",
   "execution_count": 40,
   "metadata": {},
   "outputs": [],
   "source": [
    "from sklearn.decomposition import PCA"
   ]
  },
  {
   "cell_type": "code",
   "execution_count": 41,
   "metadata": {},
   "outputs": [],
   "source": [
    "PCAStep=[(\"PCAprep_pipe\",FeatureUnion([(\"minmax\", minmaxPipeline), (\"standard\", standardPipeline)])),\n",
    "                    (\"pca\", PCA(n_components=2))]\n",
    "pcaPipeline=Pipeline(PCAStep)\n",
    "X_PCA=pcaPipeline.fit_transform(X)"
   ]
  },
  {
   "cell_type": "code",
   "execution_count": 42,
   "metadata": {},
   "outputs": [],
   "source": [
    "#Pipeline for Random Forest Regression with PCA\n",
    "PCARFStep=[(\"PCARF_pipe\",FeatureUnion([(\"minmax\", minmaxPipeline), (\"standard\", standardPipeline)])),\n",
    "                    (\"pca\", PCA(n_components=2)),(\"RF\", RandomForestRegressor()) ]\n",
    "RFRegressor_PCAPipeline=Pipeline(PCARFStep)"
   ]
  },
  {
   "cell_type": "code",
   "execution_count": 43,
   "metadata": {},
   "outputs": [
    {
     "name": "stdout",
     "output_type": "stream",
     "text": [
      "Scores: [-0.22485759 -0.20578436 -0.2122099  -0.17498289 -0.35915835]\n",
      "Mean Score: -0.23539861824087732\n",
      "Standard Deviation of Scores: 0.06401932045437951\n"
     ]
    }
   ],
   "source": [
    "CrossValidationScore_PCA=cross_val_score(RFRegressor_PCAPipeline, X, y, cv=5, scoring=\"neg_mean_squared_error\")\n",
    "displayScores(CrossValidationScore_PCA)"
   ]
  }
 ],
 "metadata": {
  "kernelspec": {
   "display_name": "Python 3",
   "language": "python",
   "name": "python3"
  },
  "language_info": {
   "codemirror_mode": {
    "name": "ipython",
    "version": 3
   },
   "file_extension": ".py",
   "mimetype": "text/x-python",
   "name": "python",
   "nbconvert_exporter": "python",
   "pygments_lexer": "ipython3",
   "version": "3.7.4"
  }
 },
 "nbformat": 4,
 "nbformat_minor": 2
}
